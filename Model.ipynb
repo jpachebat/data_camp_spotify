{
 "cells": [
  {
   "cell_type": "code",
   "execution_count": 2,
   "id": "0a946ec6-b379-457a-ae6d-7904a1a915aa",
   "metadata": {},
   "outputs": [],
   "source": [
    "import pandas as pd\n",
    "import seaborn as sns\n",
    "import numpy as np\n",
    "import matplotlib.pyplot as plt\n",
    "import datetime\n",
    "\n",
    "sns.set_style('darkgrid')"
   ]
  },
  {
   "cell_type": "code",
   "execution_count": 6,
   "id": "acb6b2d5-cacc-4d00-ba02-6d85f1121157",
   "metadata": {},
   "outputs": [],
   "source": [
    "df = pd.read_csv('./demo_spotify.csv', sep = '|')"
   ]
  },
  {
   "cell_type": "code",
   "execution_count": 64,
   "id": "13cad0ad-4bbe-417e-9b4a-8af843e714d4",
   "metadata": {},
   "outputs": [],
   "source": [
    "col = ['danceability', 'energy', 'loudness', 'speechiness', 'acousticness',\n",
    "                 'instrumentalness', 'liveness', 'valence', 'tempo', 'duration_ms', 'popularity']\n",
    "\n",
    "data = df[col]\n",
    "data = data.query('popularity>0')\n",
    "\n"
   ]
  },
  {
   "cell_type": "code",
   "execution_count": 65,
   "id": "1da0e024-dbdd-4f91-8957-bd33c84185df",
   "metadata": {},
   "outputs": [],
   "source": [
    "a = (data['popularity'] <= 50)\n",
    "\n",
    "data['is_top50'] = a\n"
   ]
  },
  {
   "cell_type": "code",
   "execution_count": 66,
   "id": "bafd4883-80ad-4a4c-b04d-4bf4381c3d2d",
   "metadata": {},
   "outputs": [
    {
     "data": {
      "text/plain": [
       "Index(['danceability', 'energy', 'loudness', 'speechiness', 'acousticness',\n",
       "       'instrumentalness', 'liveness', 'valence', 'tempo', 'duration_ms',\n",
       "       'popularity', 'is_top50'],\n",
       "      dtype='object')"
      ]
     },
     "execution_count": 66,
     "metadata": {},
     "output_type": "execute_result"
    }
   ],
   "source": [
    "data.columns"
   ]
  },
  {
   "cell_type": "markdown",
   "id": "2baee47f-995b-4d19-9f06-8fd7b4654b40",
   "metadata": {},
   "source": [
    "We take as training data the numerical columns, from which we want to predict the popularity."
   ]
  },
  {
   "cell_type": "code",
   "execution_count": 67,
   "id": "342f4897-590c-496d-acbb-f42b45e4c269",
   "metadata": {},
   "outputs": [],
   "source": [
    "X_df = data[train_col]\n",
    "y = data['is_top50']"
   ]
  },
  {
   "cell_type": "code",
   "execution_count": 68,
   "id": "899dfd95-9e0c-4cfc-9c0c-cda6b306ef62",
   "metadata": {},
   "outputs": [
    {
     "data": {
      "text/html": [
       "<div>\n",
       "<style scoped>\n",
       "    .dataframe tbody tr th:only-of-type {\n",
       "        vertical-align: middle;\n",
       "    }\n",
       "\n",
       "    .dataframe tbody tr th {\n",
       "        vertical-align: top;\n",
       "    }\n",
       "\n",
       "    .dataframe thead th {\n",
       "        text-align: right;\n",
       "    }\n",
       "</style>\n",
       "<table border=\"1\" class=\"dataframe\">\n",
       "  <thead>\n",
       "    <tr style=\"text-align: right;\">\n",
       "      <th></th>\n",
       "      <th>danceability</th>\n",
       "      <th>energy</th>\n",
       "      <th>loudness</th>\n",
       "      <th>speechiness</th>\n",
       "      <th>acousticness</th>\n",
       "      <th>instrumentalness</th>\n",
       "      <th>liveness</th>\n",
       "      <th>valence</th>\n",
       "      <th>tempo</th>\n",
       "      <th>duration_ms</th>\n",
       "    </tr>\n",
       "  </thead>\n",
       "  <tbody>\n",
       "    <tr>\n",
       "      <th>1</th>\n",
       "      <td>0.687</td>\n",
       "      <td>0.845</td>\n",
       "      <td>-4.370</td>\n",
       "      <td>0.0576</td>\n",
       "      <td>0.1000</td>\n",
       "      <td>0.000000</td>\n",
       "      <td>0.0452</td>\n",
       "      <td>0.809</td>\n",
       "      <td>87.972</td>\n",
       "      <td>190226</td>\n",
       "    </tr>\n",
       "    <tr>\n",
       "      <th>2</th>\n",
       "      <td>0.818</td>\n",
       "      <td>0.803</td>\n",
       "      <td>-4.282</td>\n",
       "      <td>0.0797</td>\n",
       "      <td>0.0340</td>\n",
       "      <td>0.000000</td>\n",
       "      <td>0.1530</td>\n",
       "      <td>0.632</td>\n",
       "      <td>106.970</td>\n",
       "      <td>225983</td>\n",
       "    </tr>\n",
       "    <tr>\n",
       "      <th>3</th>\n",
       "      <td>0.624</td>\n",
       "      <td>0.876</td>\n",
       "      <td>-3.374</td>\n",
       "      <td>0.1000</td>\n",
       "      <td>0.0735</td>\n",
       "      <td>0.000000</td>\n",
       "      <td>0.3270</td>\n",
       "      <td>0.781</td>\n",
       "      <td>99.943</td>\n",
       "      <td>170826</td>\n",
       "    </tr>\n",
       "    <tr>\n",
       "      <th>4</th>\n",
       "      <td>0.614</td>\n",
       "      <td>0.379</td>\n",
       "      <td>-10.480</td>\n",
       "      <td>0.0476</td>\n",
       "      <td>0.6070</td>\n",
       "      <td>0.000464</td>\n",
       "      <td>0.0986</td>\n",
       "      <td>0.201</td>\n",
       "      <td>107.989</td>\n",
       "      <td>258986</td>\n",
       "    </tr>\n",
       "    <tr>\n",
       "      <th>5</th>\n",
       "      <td>0.768</td>\n",
       "      <td>0.517</td>\n",
       "      <td>-4.323</td>\n",
       "      <td>0.0312</td>\n",
       "      <td>0.1860</td>\n",
       "      <td>0.000038</td>\n",
       "      <td>0.1040</td>\n",
       "      <td>0.418</td>\n",
       "      <td>104.992</td>\n",
       "      <td>216896</td>\n",
       "    </tr>\n",
       "  </tbody>\n",
       "</table>\n",
       "</div>"
      ],
      "text/plain": [
       "   danceability  energy  loudness  speechiness  acousticness  \\\n",
       "1         0.687   0.845    -4.370       0.0576        0.1000   \n",
       "2         0.818   0.803    -4.282       0.0797        0.0340   \n",
       "3         0.624   0.876    -3.374       0.1000        0.0735   \n",
       "4         0.614   0.379   -10.480       0.0476        0.6070   \n",
       "5         0.768   0.517    -4.323       0.0312        0.1860   \n",
       "\n",
       "   instrumentalness  liveness  valence    tempo  duration_ms  \n",
       "1          0.000000    0.0452    0.809   87.972       190226  \n",
       "2          0.000000    0.1530    0.632  106.970       225983  \n",
       "3          0.000000    0.3270    0.781   99.943       170826  \n",
       "4          0.000464    0.0986    0.201  107.989       258986  \n",
       "5          0.000038    0.1040    0.418  104.992       216896  "
      ]
     },
     "execution_count": 68,
     "metadata": {},
     "output_type": "execute_result"
    }
   ],
   "source": [
    "X_df.head()"
   ]
  },
  {
   "cell_type": "markdown",
   "id": "aa9c73ca-7723-4de2-b31e-0ee51f6bbcfc",
   "metadata": {},
   "source": [
    "### Data Imbalance"
   ]
  },
  {
   "cell_type": "code",
   "execution_count": 69,
   "id": "5517b202-52cb-4c1a-8a19-1a81367940ef",
   "metadata": {},
   "outputs": [
    {
     "data": {
      "text/plain": [
       "0.39500074839095944"
      ]
     },
     "execution_count": 69,
     "metadata": {},
     "output_type": "execute_result"
    }
   ],
   "source": [
    "sum(y)/len(y)"
   ]
  },
  {
   "cell_type": "markdown",
   "id": "bbec8e8f-1e93-4f3f-a2a5-3414ac0bc874",
   "metadata": {},
   "source": [
    "data is balanced."
   ]
  },
  {
   "cell_type": "markdown",
   "id": "819a0511-61f1-4b89-85fb-c079c2a186c8",
   "metadata": {},
   "source": [
    "### Spliting"
   ]
  },
  {
   "cell_type": "code",
   "execution_count": 70,
   "id": "d42700c5-34f7-4f0f-8f26-0e6c28dc496d",
   "metadata": {},
   "outputs": [],
   "source": [
    "from sklearn.model_selection import train_test_split\n",
    "\n",
    "X_train, X_test, y_train, y_test = train_test_split(\n",
    "    X_df, y, random_state=42\n",
    ")"
   ]
  },
  {
   "cell_type": "markdown",
   "id": "f04e34a2-1513-4ca5-aed5-725bb6f3a245",
   "metadata": {},
   "source": [
    "### Classification"
   ]
  },
  {
   "cell_type": "code",
   "execution_count": 71,
   "id": "5e3cf98b-986b-4fe1-89ec-ab51c5340d84",
   "metadata": {},
   "outputs": [
    {
     "name": "stdout",
     "output_type": "stream",
     "text": [
      "KNeighborsClassifier(n_neighbors=15)  score: 0.5804907241172951\n",
      "RandomForestClassifier(n_estimators=200)  score: 0.6259724715739078\n"
     ]
    }
   ],
   "source": [
    "from sklearn.pipeline import make_pipeline\n",
    "from sklearn.ensemble import RandomForestClassifier\n",
    "from sklearn import neighbors\n",
    "n_neighbors = 15\n",
    "\n",
    "models = [neighbors.KNeighborsClassifier(n_neighbors, weights='uniform'), \n",
    "          RandomForestClassifier(n_estimators=200),\n",
    "         ]\n",
    "\n",
    "for model in models:\n",
    "    clf = model\n",
    "    \n",
    "    clf.fit(X_train, y_train)\n",
    "    \n",
    "    print(model, ' score:', clf.score(X_test, y_test))\n",
    "\n"
   ]
  },
  {
   "cell_type": "code",
   "execution_count": null,
   "id": "ff0ff6f8-fdbc-4cc6-a109-9f20a5f09e09",
   "metadata": {},
   "outputs": [],
   "source": []
  }
 ],
 "metadata": {
  "kernelspec": {
   "display_name": "Python 3 (ipykernel)",
   "language": "python",
   "name": "python3"
  },
  "language_info": {
   "codemirror_mode": {
    "name": "ipython",
    "version": 3
   },
   "file_extension": ".py",
   "mimetype": "text/x-python",
   "name": "python",
   "nbconvert_exporter": "python",
   "pygments_lexer": "ipython3",
   "version": "3.9.7"
  }
 },
 "nbformat": 4,
 "nbformat_minor": 5
}
