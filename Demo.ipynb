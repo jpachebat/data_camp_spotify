{
 "cells": [
  {
   "cell_type": "code",
   "execution_count": 125,
   "id": "5ee0e224-28ce-4a6b-88a5-a3616f72f54c",
   "metadata": {},
   "outputs": [],
   "source": [
    "import spotipy\n",
    "from spotipy.oauth2 import SpotifyClientCredentials\n",
    "import pandas as pd\n",
    "from tqdm import tqdm"
   ]
  },
  {
   "cell_type": "markdown",
   "id": "2e399a67-0d99-4aa9-a907-657bf8fa49c1",
   "metadata": {},
   "source": [
    "[Documentation](https://spotipy.readthedocs.io/en/2.19.0/)"
   ]
  },
  {
   "cell_type": "code",
   "execution_count": 36,
   "id": "14280c6e-8f7a-43a5-9162-4b30cf2e15e5",
   "metadata": {},
   "outputs": [],
   "source": [
    "client_id = \"908dd70b4a2b4bdd87e502cc22012572\"\n",
    "client_secret = \"7d8d1ec41d414694aa30fc606ce74a43\"\n",
    "\n",
    "auth_manager = SpotifyClientCredentials(client_id=client_id, \n",
    "                     client_secret=client_secret)\n",
    "sp = spotipy.Spotify(auth_manager=auth_manager)"
   ]
  },
  {
   "cell_type": "code",
   "execution_count": 37,
   "id": "eec3a23d-7aa7-47aa-9cf0-79f5a42cad8f",
   "metadata": {},
   "outputs": [
    {
     "name": "stdout",
     "output_type": "stream",
     "text": [
      "{'external_urls': {'spotify': 'https://open.spotify.com/artist/3jOstUTkEu2JkjvRdBA5Gu'}, 'followers': {'href': None, 'total': 2590750}, 'genres': ['alternative rock', 'modern power pop', 'modern rock', 'permanent wave', 'rock'], 'href': 'https://api.spotify.com/v1/artists/3jOstUTkEu2JkjvRdBA5Gu', 'id': '3jOstUTkEu2JkjvRdBA5Gu', 'images': [{'height': 640, 'url': 'https://i.scdn.co/image/ab6761610000e5ebef2e09aeedd0d8f842d1a690', 'width': 640}, {'height': 320, 'url': 'https://i.scdn.co/image/ab67616100005174ef2e09aeedd0d8f842d1a690', 'width': 320}, {'height': 160, 'url': 'https://i.scdn.co/image/ab6761610000f178ef2e09aeedd0d8f842d1a690', 'width': 160}], 'name': 'Weezer', 'popularity': 76, 'type': 'artist', 'uri': 'spotify:artist:3jOstUTkEu2JkjvRdBA5Gu'}\n"
     ]
    }
   ],
   "source": [
    "urn = 'spotify:artist:3jOstUTkEu2JkjvRdBA5Gu'\n",
    "artist = sp.artist(urn)\n",
    "print(artist)"
   ]
  },
  {
   "cell_type": "code",
   "execution_count": 38,
   "id": "8c9ddb5d-26db-47ad-8b96-e00e52c5246c",
   "metadata": {},
   "outputs": [],
   "source": [
    "uri = sp.search('rap god')['tracks']['items'][0]['uri']"
   ]
  },
  {
   "cell_type": "code",
   "execution_count": 39,
   "id": "2d5b635a-d667-4007-a2e5-18fdfa00bead",
   "metadata": {},
   "outputs": [
    {
     "data": {
      "text/plain": [
       "[{'danceability': 0.708,\n",
       "  'energy': 0.843,\n",
       "  'key': 7,\n",
       "  'loudness': -2.66,\n",
       "  'mode': 1,\n",
       "  'speechiness': 0.314,\n",
       "  'acousticness': 0.397,\n",
       "  'instrumentalness': 0,\n",
       "  'liveness': 0.799,\n",
       "  'valence': 0.625,\n",
       "  'tempo': 148.14,\n",
       "  'type': 'audio_features',\n",
       "  'id': '6or1bKJiZ06IlK0vFvY75k',\n",
       "  'uri': 'spotify:track:6or1bKJiZ06IlK0vFvY75k',\n",
       "  'track_href': 'https://api.spotify.com/v1/tracks/6or1bKJiZ06IlK0vFvY75k',\n",
       "  'analysis_url': 'https://api.spotify.com/v1/audio-analysis/6or1bKJiZ06IlK0vFvY75k',\n",
       "  'duration_ms': 363521,\n",
       "  'time_signature': 4}]"
      ]
     },
     "execution_count": 39,
     "metadata": {},
     "output_type": "execute_result"
    }
   ],
   "source": [
    "sp.audio_features(uri)"
   ]
  },
  {
   "cell_type": "code",
   "execution_count": 47,
   "id": "afc5e939-7155-4c81-95b8-38dd24b81a2d",
   "metadata": {},
   "outputs": [
    {
     "data": {
      "text/plain": [
       "dict_keys(['album', 'artists', 'available_markets', 'disc_number', 'duration_ms', 'explicit', 'external_ids', 'external_urls', 'href', 'id', 'is_local', 'name', 'popularity', 'preview_url', 'track_number', 'type', 'uri'])"
      ]
     },
     "execution_count": 47,
     "metadata": {},
     "output_type": "execute_result"
    }
   ],
   "source": [
    "sp.track(uri).keys()"
   ]
  },
  {
   "cell_type": "code",
   "execution_count": 49,
   "id": "c8b9d572-8f72-4a5e-8714-165164adc62d",
   "metadata": {},
   "outputs": [
    {
     "data": {
      "text/plain": [
       "81"
      ]
     },
     "execution_count": 49,
     "metadata": {},
     "output_type": "execute_result"
    }
   ],
   "source": [
    "sp.track(uri)['popularity']"
   ]
  },
  {
   "cell_type": "code",
   "execution_count": 44,
   "id": "2f54eed7-f33c-468b-96f5-5cda8eb4563d",
   "metadata": {},
   "outputs": [
    {
     "name": "stdout",
     "output_type": "stream",
     "text": [
      "track    : Stairway to Heaven - Remaster\n",
      "audio    : https://p.scdn.co/mp3-preview/8226164717312bc411f8635580562d67e191a754?cid=908dd70b4a2b4bdd87e502cc22012572\n",
      "cover art: https://i.scdn.co/image/ab67616d0000b273c8a11e48c91a982d086afc69\n",
      "\n",
      "track    : Immigrant Song - Remaster\n",
      "audio    : https://p.scdn.co/mp3-preview/8455599677a13017978dcd3f4b210937f0a16bcb?cid=908dd70b4a2b4bdd87e502cc22012572\n",
      "cover art: https://i.scdn.co/image/ab67616d0000b27390a50cfe99a4c19ff3cbfbdb\n",
      "\n",
      "track    : Whole Lotta Love - 1990 Remaster\n",
      "audio    : https://p.scdn.co/mp3-preview/ce11b19a4d2de9976d7626df0717d0073863909c?cid=908dd70b4a2b4bdd87e502cc22012572\n",
      "cover art: https://i.scdn.co/image/ab67616d0000b273fc4f17340773c6c3579fea0d\n",
      "\n",
      "track    : Black Dog - Remaster\n",
      "audio    : https://p.scdn.co/mp3-preview/9b76619fd9d563a48d38cc90ca00c3008327b52e?cid=908dd70b4a2b4bdd87e502cc22012572\n",
      "cover art: https://i.scdn.co/image/ab67616d0000b273c8a11e48c91a982d086afc69\n",
      "\n",
      "track    : Kashmir - Remaster\n",
      "audio    : https://p.scdn.co/mp3-preview/f3ca68c9ceaa3435d5bd55c0199ba0b09b916cce?cid=908dd70b4a2b4bdd87e502cc22012572\n",
      "cover art: https://i.scdn.co/image/ab67616d0000b273765b0617b572bdd1dbdc7d8e\n",
      "\n",
      "track    : Ramble On - 1990 Remaster\n",
      "audio    : https://p.scdn.co/mp3-preview/83383aceb01ea27b0bffdedfaebe55e29b33aca2?cid=908dd70b4a2b4bdd87e502cc22012572\n",
      "cover art: https://i.scdn.co/image/ab67616d0000b273fc4f17340773c6c3579fea0d\n",
      "\n",
      "track    : Rock and Roll - Remaster\n",
      "audio    : https://p.scdn.co/mp3-preview/e7ea8a13f7caf6942c5447e9cd96aac2a076d85a?cid=908dd70b4a2b4bdd87e502cc22012572\n",
      "cover art: https://i.scdn.co/image/ab67616d0000b273c8a11e48c91a982d086afc69\n",
      "\n",
      "track    : Going to California - Remaster\n",
      "audio    : https://p.scdn.co/mp3-preview/4bdae56c6a9f7a8ec42b753cb7bea2c77ec68f1e?cid=908dd70b4a2b4bdd87e502cc22012572\n",
      "cover art: https://i.scdn.co/image/ab67616d0000b273c8a11e48c91a982d086afc69\n",
      "\n",
      "track    : Good Times Bad Times - 1993 Remaster\n",
      "audio    : https://p.scdn.co/mp3-preview/c1f024eb57b569b926c8e68cab0a6056dc7d9654?cid=908dd70b4a2b4bdd87e502cc22012572\n",
      "cover art: https://i.scdn.co/image/ab67616d0000b2736f2f499c1df1f210c9b34b32\n",
      "\n",
      "track    : D'yer Mak'er - Remaster\n",
      "audio    : https://p.scdn.co/mp3-preview/863a26744fa4389f1dc61557133df3453be82d7b?cid=908dd70b4a2b4bdd87e502cc22012572\n",
      "cover art: https://i.scdn.co/image/ab67616d0000b2731816adce1d49e35d3ce9a1d1\n",
      "\n"
     ]
    }
   ],
   "source": [
    "lz_uri = 'spotify:artist:36QJpDe2go2KgaRleHCDTp'\n",
    "\n",
    "results = sp.artist_top_tracks(lz_uri)\n",
    "\n",
    "for track in results['tracks'][:10]:\n",
    "    print('track    : ' + track['name'])\n",
    "    print('audio    : ' + track['preview_url'])\n",
    "    print('cover art: ' + track['album']['images'][0]['url'])\n",
    "    print()"
   ]
  },
  {
   "cell_type": "code",
   "execution_count": 146,
   "id": "f30622b7-b17d-424e-9906-a62ad171a1e7",
   "metadata": {},
   "outputs": [
    {
     "name": "stderr",
     "output_type": "stream",
     "text": [
      "100%|█████████████████████████████████████████| 100/100 [00:18<00:00,  5.55it/s]\n"
     ]
    }
   ],
   "source": [
    "playlist_id = '5S8SJdl1BDc0ugpkEvFsIL'  # https://open.spotify.com/playlist/37i9dQZF1DXcBWIGoYBM5M\n",
    "\n",
    "nb_tracks = sp.playlist(f'spotify:playlist:{playlist_id}')['tracks']['total']\n",
    "\n",
    "list_music = [sp.playlist_tracks(f'spotify:playlist:{playlist_id}', limit=100, offset=i)['items'] for i in tqdm(range(0, nb_tracks, 100))]"
   ]
  },
  {
   "cell_type": "code",
   "execution_count": 147,
   "id": "cf1c0b0e-1616-4784-ae8d-bb2e7116f622",
   "metadata": {},
   "outputs": [],
   "source": [
    "list_music = [donnee for list_ in list_music for donnee in list_]"
   ]
  },
  {
   "cell_type": "code",
   "execution_count": 148,
   "id": "5315bb6d-9c40-460d-90cf-581f7dac9402",
   "metadata": {},
   "outputs": [],
   "source": [
    "meta = []\n",
    "for music in list_music:\n",
    "    metadonnee = []\n",
    "    \n",
    "    metadonnee.append(music['track']['name'])\n",
    "    metadonnee.append(music['track']['uri'])\n",
    "    metadonnee.append(music['track']['duration_ms'])\n",
    "    metadonnee.append(music['track']['popularity'])\n",
    "    metadonnee.append(music['track']['explicit'])\n",
    "    metadonnee.append(music['track']['album']['name'])\n",
    "    metadonnee.append(music['track']['artists'][0]['name'])\n",
    "    metadonnee.append(music['track']['artists'][0]['uri'])\n",
    "    \n",
    "    meta.append(metadonnee)\n",
    "    \n",
    "df_meta = pd.DataFrame(meta, columns=['name', 'uri', 'duration_ms', 'popularity', 'explicit', 'album_name', 'artist_name', 'artist_uri'])"
   ]
  },
  {
   "cell_type": "code",
   "execution_count": 149,
   "id": "130a9638-ad78-424c-8c9d-4c653e479c7f",
   "metadata": {},
   "outputs": [
    {
     "data": {
      "text/html": [
       "<div>\n",
       "<style scoped>\n",
       "    .dataframe tbody tr th:only-of-type {\n",
       "        vertical-align: middle;\n",
       "    }\n",
       "\n",
       "    .dataframe tbody tr th {\n",
       "        vertical-align: top;\n",
       "    }\n",
       "\n",
       "    .dataframe thead th {\n",
       "        text-align: right;\n",
       "    }\n",
       "</style>\n",
       "<table border=\"1\" class=\"dataframe\">\n",
       "  <thead>\n",
       "    <tr style=\"text-align: right;\">\n",
       "      <th></th>\n",
       "      <th>name</th>\n",
       "      <th>uri</th>\n",
       "      <th>duration_ms</th>\n",
       "      <th>popularity</th>\n",
       "      <th>explicit</th>\n",
       "      <th>album_name</th>\n",
       "      <th>artist_name</th>\n",
       "      <th>artist_uri</th>\n",
       "    </tr>\n",
       "  </thead>\n",
       "  <tbody>\n",
       "    <tr>\n",
       "      <th>0</th>\n",
       "      <td>...Ready For It?</td>\n",
       "      <td>spotify:track:7zgqtptZvhf8GEmdsM2vp2</td>\n",
       "      <td>208198</td>\n",
       "      <td>0</td>\n",
       "      <td>False</td>\n",
       "      <td>...Ready For It?</td>\n",
       "      <td>Taylor Swift</td>\n",
       "      <td>spotify:artist:06HL4z0CvFAxyc27GXpf02</td>\n",
       "    </tr>\n",
       "    <tr>\n",
       "      <th>1</th>\n",
       "      <td>Life Changes</td>\n",
       "      <td>spotify:track:4Vxu50qVrQcycjRyJQaZLC</td>\n",
       "      <td>190226</td>\n",
       "      <td>66</td>\n",
       "      <td>False</td>\n",
       "      <td>Life Changes</td>\n",
       "      <td>Thomas Rhett</td>\n",
       "      <td>spotify:artist:6x2LnllRG5uGarZMsD4iO8</td>\n",
       "    </tr>\n",
       "    <tr>\n",
       "      <th>2</th>\n",
       "      <td>24K Magic</td>\n",
       "      <td>spotify:track:6b8Be6ljOzmkOmFslEb23P</td>\n",
       "      <td>225983</td>\n",
       "      <td>81</td>\n",
       "      <td>False</td>\n",
       "      <td>24K Magic</td>\n",
       "      <td>Bruno Mars</td>\n",
       "      <td>spotify:artist:0du5cEVh5yTK9QJze8zA0C</td>\n",
       "    </tr>\n",
       "    <tr>\n",
       "      <th>3</th>\n",
       "      <td>Galway Girl</td>\n",
       "      <td>spotify:track:0afhq8XCExXpqazXczTSve</td>\n",
       "      <td>170826</td>\n",
       "      <td>81</td>\n",
       "      <td>False</td>\n",
       "      <td>÷ (Deluxe)</td>\n",
       "      <td>Ed Sheeran</td>\n",
       "      <td>spotify:artist:6eUKZXaKkcviH0Ku9w2n3V</td>\n",
       "    </tr>\n",
       "    <tr>\n",
       "      <th>4</th>\n",
       "      <td>Photograph</td>\n",
       "      <td>spotify:track:1HNkqx9Ahdgi1Ixy2xkKkL</td>\n",
       "      <td>258986</td>\n",
       "      <td>86</td>\n",
       "      <td>False</td>\n",
       "      <td>x (Deluxe Edition)</td>\n",
       "      <td>Ed Sheeran</td>\n",
       "      <td>spotify:artist:6eUKZXaKkcviH0Ku9w2n3V</td>\n",
       "    </tr>\n",
       "    <tr>\n",
       "      <th>...</th>\n",
       "      <td>...</td>\n",
       "      <td>...</td>\n",
       "      <td>...</td>\n",
       "      <td>...</td>\n",
       "      <td>...</td>\n",
       "      <td>...</td>\n",
       "      <td>...</td>\n",
       "      <td>...</td>\n",
       "    </tr>\n",
       "    <tr>\n",
       "      <th>9995</th>\n",
       "      <td>Remember the Future, Pt. 1</td>\n",
       "      <td>spotify:track:7xBXbeQkcVeOELZgGa705e</td>\n",
       "      <td>1001120</td>\n",
       "      <td>29</td>\n",
       "      <td>False</td>\n",
       "      <td>Remember the Future</td>\n",
       "      <td>Nektar</td>\n",
       "      <td>spotify:artist:0n2Uel3CvQrmMsYLEfpO3s</td>\n",
       "    </tr>\n",
       "    <tr>\n",
       "      <th>9996</th>\n",
       "      <td>Funeral For A Friend / Love Lies Bleeding</td>\n",
       "      <td>spotify:track:4UFlPCB4THnQ9TlPHqIQow</td>\n",
       "      <td>666571</td>\n",
       "      <td>0</td>\n",
       "      <td>False</td>\n",
       "      <td>Goodbye Yellow Brick Road (40th Anniversary Ce...</td>\n",
       "      <td>Elton John</td>\n",
       "      <td>spotify:artist:3PhoLpVuITZKcymswpck5b</td>\n",
       "    </tr>\n",
       "    <tr>\n",
       "      <th>9997</th>\n",
       "      <td>Fool's Overture</td>\n",
       "      <td>spotify:track:5pSSEkT0963muzzIjsVkrs</td>\n",
       "      <td>652560</td>\n",
       "      <td>57</td>\n",
       "      <td>False</td>\n",
       "      <td>Even In The Quietest Moments</td>\n",
       "      <td>Supertramp</td>\n",
       "      <td>spotify:artist:3JsMj0DEzyWc0VDlHuy9Bx</td>\n",
       "    </tr>\n",
       "    <tr>\n",
       "      <th>9998</th>\n",
       "      <td>Heart of the Sunrise - 2003 Remaster</td>\n",
       "      <td>spotify:track:7gC6Rbllqf1yXNC02e5jz2</td>\n",
       "      <td>634440</td>\n",
       "      <td>47</td>\n",
       "      <td>False</td>\n",
       "      <td>Fragile (Deluxe Edition)</td>\n",
       "      <td>Yes</td>\n",
       "      <td>spotify:artist:7AC976RDJzL2asmZuz7qil</td>\n",
       "    </tr>\n",
       "    <tr>\n",
       "      <th>9999</th>\n",
       "      <td>Venus And Mars / Rock Show / Jet - Live / Rema...</td>\n",
       "      <td>spotify:track:6Ff77WXC58MkhLE5A1qgY1</td>\n",
       "      <td>620746</td>\n",
       "      <td>0</td>\n",
       "      <td>False</td>\n",
       "      <td>Wings Over America (Remastered)</td>\n",
       "      <td>Paul McCartney</td>\n",
       "      <td>spotify:artist:4STHEaNw4mPZ2tzheohgXB</td>\n",
       "    </tr>\n",
       "  </tbody>\n",
       "</table>\n",
       "<p>10000 rows × 8 columns</p>\n",
       "</div>"
      ],
      "text/plain": [
       "                                                   name  \\\n",
       "0                                      ...Ready For It?   \n",
       "1                                          Life Changes   \n",
       "2                                             24K Magic   \n",
       "3                                           Galway Girl   \n",
       "4                                            Photograph   \n",
       "...                                                 ...   \n",
       "9995                         Remember the Future, Pt. 1   \n",
       "9996          Funeral For A Friend / Love Lies Bleeding   \n",
       "9997                                    Fool's Overture   \n",
       "9998               Heart of the Sunrise - 2003 Remaster   \n",
       "9999  Venus And Mars / Rock Show / Jet - Live / Rema...   \n",
       "\n",
       "                                       uri  duration_ms  popularity  explicit  \\\n",
       "0     spotify:track:7zgqtptZvhf8GEmdsM2vp2       208198           0     False   \n",
       "1     spotify:track:4Vxu50qVrQcycjRyJQaZLC       190226          66     False   \n",
       "2     spotify:track:6b8Be6ljOzmkOmFslEb23P       225983          81     False   \n",
       "3     spotify:track:0afhq8XCExXpqazXczTSve       170826          81     False   \n",
       "4     spotify:track:1HNkqx9Ahdgi1Ixy2xkKkL       258986          86     False   \n",
       "...                                    ...          ...         ...       ...   \n",
       "9995  spotify:track:7xBXbeQkcVeOELZgGa705e      1001120          29     False   \n",
       "9996  spotify:track:4UFlPCB4THnQ9TlPHqIQow       666571           0     False   \n",
       "9997  spotify:track:5pSSEkT0963muzzIjsVkrs       652560          57     False   \n",
       "9998  spotify:track:7gC6Rbllqf1yXNC02e5jz2       634440          47     False   \n",
       "9999  spotify:track:6Ff77WXC58MkhLE5A1qgY1       620746           0     False   \n",
       "\n",
       "                                             album_name     artist_name  \\\n",
       "0                                      ...Ready For It?    Taylor Swift   \n",
       "1                                          Life Changes    Thomas Rhett   \n",
       "2                                             24K Magic      Bruno Mars   \n",
       "3                                            ÷ (Deluxe)      Ed Sheeran   \n",
       "4                                    x (Deluxe Edition)      Ed Sheeran   \n",
       "...                                                 ...             ...   \n",
       "9995                                Remember the Future          Nektar   \n",
       "9996  Goodbye Yellow Brick Road (40th Anniversary Ce...      Elton John   \n",
       "9997                       Even In The Quietest Moments      Supertramp   \n",
       "9998                           Fragile (Deluxe Edition)             Yes   \n",
       "9999                    Wings Over America (Remastered)  Paul McCartney   \n",
       "\n",
       "                                 artist_uri  \n",
       "0     spotify:artist:06HL4z0CvFAxyc27GXpf02  \n",
       "1     spotify:artist:6x2LnllRG5uGarZMsD4iO8  \n",
       "2     spotify:artist:0du5cEVh5yTK9QJze8zA0C  \n",
       "3     spotify:artist:6eUKZXaKkcviH0Ku9w2n3V  \n",
       "4     spotify:artist:6eUKZXaKkcviH0Ku9w2n3V  \n",
       "...                                     ...  \n",
       "9995  spotify:artist:0n2Uel3CvQrmMsYLEfpO3s  \n",
       "9996  spotify:artist:3PhoLpVuITZKcymswpck5b  \n",
       "9997  spotify:artist:3JsMj0DEzyWc0VDlHuy9Bx  \n",
       "9998  spotify:artist:7AC976RDJzL2asmZuz7qil  \n",
       "9999  spotify:artist:4STHEaNw4mPZ2tzheohgXB  \n",
       "\n",
       "[10000 rows x 8 columns]"
      ]
     },
     "execution_count": 149,
     "metadata": {},
     "output_type": "execute_result"
    }
   ],
   "source": [
    "df_meta"
   ]
  },
  {
   "cell_type": "code",
   "execution_count": null,
   "id": "68ce19c0-7df6-4ad1-bd9f-66d826f930ba",
   "metadata": {},
   "outputs": [],
   "source": []
  }
 ],
 "metadata": {
  "kernelspec": {
   "display_name": "Python 3 (ipykernel)",
   "language": "python",
   "name": "python3"
  },
  "language_info": {
   "codemirror_mode": {
    "name": "ipython",
    "version": 3
   },
   "file_extension": ".py",
   "mimetype": "text/x-python",
   "name": "python",
   "nbconvert_exporter": "python",
   "pygments_lexer": "ipython3",
   "version": "3.9.7"
  }
 },
 "nbformat": 4,
 "nbformat_minor": 5
}
